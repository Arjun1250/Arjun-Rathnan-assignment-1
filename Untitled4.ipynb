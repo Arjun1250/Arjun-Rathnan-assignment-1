{
  "nbformat": 4,
  "nbformat_minor": 0,
  "metadata": {
    "colab": {
      "name": "Untitled4.ipynb",
      "provenance": [],
      "authorship_tag": "ABX9TyPXps4tBEggOUG7+5CRdmFh",
      "include_colab_link": true
    },
    "kernelspec": {
      "name": "python3",
      "display_name": "Python 3"
    }
  },
  "cells": [
    {
      "cell_type": "markdown",
      "metadata": {
        "id": "view-in-github",
        "colab_type": "text"
      },
      "source": [
        "<a href=\"https://colab.research.google.com/github/Arjun1250/Arjun-Rathnan-assignment-1/blob/master/Untitled4.ipynb\" target=\"_parent\"><img src=\"https://colab.research.google.com/assets/colab-badge.svg\" alt=\"Open In Colab\"/></a>"
      ]
    },
    {
      "cell_type": "code",
      "metadata": {
        "id": "wtBNnDpe7y5d"
      },
      "source": [
        "#1\n",
        "def sum_odd(lst):\n",
        "  sum=0\n",
        "  for i in lst:\n",
        "    if i%2!=0:\n",
        "      sum+=i\n",
        "  print(sum)\n",
        "\n",
        "sum_odd([1,2,3,5,6,7])"
      ],
      "execution_count": null,
      "outputs": []
    },
    {
      "cell_type": "markdown",
      "metadata": {
        "id": "efmyZReq3lKd"
      },
      "source": [
        " #2Python pass Statement\n",
        "The pass statement is used as a placeholder for future code. When the pass statement is executed, nothing happens, but you avoid getting an error when empty code is not allowed. Empty code is not allowed in loops, function definitions, class definitions, or in if statements."
      ]
    },
    {
      "cell_type": "code",
      "metadata": {
        "id": "j5Q6jwpS4OrJ"
      },
      "source": [
        "#3\n",
        "def same(str1,str2):\n",
        "  if str1==str2:\n",
        "    print(\"same\")\n",
        "  else:\n",
        "    print(\"Not same\")"
      ],
      "execution_count": 3,
      "outputs": []
    },
    {
      "cell_type": "code",
      "metadata": {
        "id": "7jB6j_uE4e_t"
      },
      "source": [
        "\n",
        "#4\n",
        "def search(list, platform):\n",
        "    for i in range(len(list)):\n",
        "        if list[i] == platform:\n",
        "            return True\n",
        "    return False\n",
        " \n",
        " \n",
        "streaming = ['netflix', 'hulu', 'disney+', 'appletv+']\n",
        "platform = 'netflix'\n",
        " \n",
        "if search(streaming, platform):\n",
        "    print(\"Platform is found\")\n",
        "else:\n",
        "    print(\"Platform does not found\")"
      ],
      "execution_count": null,
      "outputs": []
    },
    {
      "cell_type": "code",
      "metadata": {
        "id": "J1B7wMxf4sLJ"
      },
      "source": [
        "#5\n",
        "The advantages of using functions are:\n",
        "Reducing duplication of code.\n",
        "Decomposing complex problems into simpler pieces.\n",
        "Improving clarity of the code.\n",
        "Reuse of code.\n",
        "Information hiding."
      ],
      "execution_count": null,
      "outputs": []
    },
    {
      "cell_type": "code",
      "metadata": {
        "id": "okyF0lbr44sI"
      },
      "source": [
        "#6\n",
        "json module in Python module provides a method called dump() which converts the Python objects into appropriate json objects. It is a slight variant of dumps() method.\n",
        " \n",
        "Difference between dump() and dumps()\n",
        "dump()  dumps()\n",
        "The dump() method is used when the Python objects have to be stored in a file.  The dumps() is used when the objects are required to be in string format and is used for parsing, printing, etc, .\n",
        "The dump() needs the json file name in which the output has to be stored as an argument.    The dumps() does not require any such file name to be passed.\n",
        "This method writes in the memory and then command for writing to disk is executed separately    This method directly writes to the json file\n",
        "Faster method   2 times slower\n",
        "dump() and its arguments\n",
        "Syntax: json.dump(d, skipkeys=False, ensure_ascii=True, check_circular=True, allow_nan=True, cls=None, indent=None, separators=None)"
      ],
      "execution_count": null,
      "outputs": []
    },
    {
      "cell_type": "code",
      "metadata": {
        "id": "qoTHP1nc4-mt"
      },
      "source": [
        "#7\n",
        "def exist (file):\n",
        "  try:\n",
        "    fh=open(file,\"r\")\n",
        "    print(\"file is successfully opened\")\n",
        "  except FileNotFoundError:\n",
        "    print(\"Sorry!! File is not exist\")"
      ],
      "execution_count": null,
      "outputs": []
    },
    {
      "cell_type": "markdown",
      "metadata": {
        "id": "_jM10icb5S1A"
      },
      "source": [
        "#8\n",
        "Exception handling ensures that the flow of the program doesn't break when an exception occurs. For example, if a program has bunch of statements and an exception occurs mid way after executing certain statements then the statements after the exception will not execute and the program will terminate abruptly."
      ]
    },
    {
      "cell_type": "markdown",
      "metadata": {
        "id": "AKNwjlmf5aDu"
      },
      "source": [
        "#9\n",
        "Constructors are generally used for instantiating an object. The task of constructors is to initialize(assign values) to the data members of the class when an object of class is created.In Python the __init__() method is called the constructor and is always called when an object is created."
      ]
    },
    {
      "cell_type": "markdown",
      "metadata": {
        "id": "krbrV9b35rJl"
      },
      "source": [
        "#9 eg\n",
        "class DemoClass:\n",
        "    # constructor\n",
        "    def __init__(self):\n",
        "        # initializing instance variable\n",
        "        self.num=100\n",
        " \n",
        "    # a method\n",
        "    def read_number(self):\n",
        "        print(self.num)\n",
        " \n",
        " \n",
        "# creating object of the class. This invokes constructor\n",
        "obj = DemoClass()\n",
        " \n",
        "# calling the instance method using the object obj\n",
        "obj.read_number()"
      ]
    },
    {
      "cell_type": "markdown",
      "metadata": {
        "id": "08Zj93Zd5ujd"
      },
      "source": [
        "#10\n",
        "__init__ method\n",
        "\"__init__\" is a reseved method in python classes. It is called as a constructor in object oriented terminology. This method is called when an object is created from a class and it allows the class to initialize the attributes of the class"
      ]
    },
    {
      "cell_type": "markdown",
      "metadata": {
        "id": "cCDXigx47JBa"
      },
      "source": [
        "#13a\n",
        " \n",
        "X = [[12,7,3],\n",
        "    [4 ,5,6],\n",
        "    [7 ,8,9]]\n",
        " \n",
        "Y = [[5,8,1],\n",
        "    [6,7,3],\n",
        "    [4,5,9]]\n",
        " \n",
        "result = [[0,0,0],\n",
        "         [0,0,0],\n",
        "         [0,0,0]]\n",
        "for i in range(len(X)):\n",
        "  for j in range(len(X[0])):\n",
        "       result[i][j] = X[i][j] + Y[i][j]\n",
        " \n",
        "for r in result:\n",
        "   print(r)"
      ]
    },
    {
      "cell_type": "markdown",
      "metadata": {
        "id": "kBUcmtMD7P2T"
      },
      "source": [
        "#13 b\n",
        "my_str = 'aIbohPhoBiA'\n",
        "my_str = my_str.casefold()\n",
        "rev_str = reversed(my_str)\n",
        "if list(my_str) == list(rev_str):\n",
        "   print(\"The string is a palindrome.\")\n",
        "else:\n",
        "   print(\"The string is not a palindrome.\")"
      ]
    },
    {
      "cell_type": "markdown",
      "metadata": {
        "id": "8GnlTDkb6HLu"
      },
      "source": [
        "16 a\n",
        "A recursive function is a function defined in terms of itself via self-referential expressions. This means that the function will continue to call itself and repeat its behavior until some condition is met to return a result.\n",
        "#16 a\n",
        "def recur_factorial(n):\n",
        "   if n == 1:\n",
        "       return n\n",
        "   else:\n",
        "       return n*recur_factorial(n-1)\n",
        "num = 7\n",
        "if num < 0:\n",
        "   print(\"Sorry, factorial does not exist for negative numbers\")\n",
        "elif num == 0:\n",
        "   print(\"The factorial of 0 is 1\")\n",
        "else:\n",
        "   print(\"The factorial of\", num, \"is\", recur_factorial(num))"
      ]
    },
    {
      "cell_type": "markdown",
      "metadata": {
        "id": "anKrvGpo6IeP"
      },
      "source": [
        "16 b\n",
        "print(\"Input lengths of the triangle sides: \")\n",
        "x = int(input(\"x: \"))\n",
        "y = int(input(\"y: \"))\n",
        "z = int(input(\"z: \"))\n",
        " \n",
        "if x == y == z:\n",
        "    print(\"Equilateral triangle\")\n",
        "elif x==y or y==z or z==x:\n",
        "    print(\"isosceles triangle\")\n",
        "else:\n",
        "    print(\"Scalene triangle\")"
      ]
    },
    {
      "cell_type": "markdown",
      "metadata": {
        "id": "7aDTVT3C68aT"
      },
      "source": [
        "#17a\n",
        "Python has many built-in exceptions that are raised when your program encounters an error (something in the program goes wrong).\n",
        " \n",
        "When these exceptions occur, the Python interpreter stops the current process and passes it to the calling process until it is handled. If not handled, the program will crash.\n",
        " \n",
        "For example, let us consider a program where we have a function A that calls function B, which in turn calls function C. If an exception occurs in function C but is not handled in C, the exception passes to B and then to A.\n",
        " \n",
        "If never handled, an error message is displayed and our program comes to a sudden unexpected halt."
      ]
    }
  ]
}