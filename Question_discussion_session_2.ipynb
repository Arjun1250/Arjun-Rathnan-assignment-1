{
  "nbformat": 4,
  "nbformat_minor": 0,
  "metadata": {
    "colab": {
      "name": "Question discussion session 2.ipynb",
      "provenance": [],
      "authorship_tag": "ABX9TyO5Gl5c7RkD3MLfkzRdEOjh",
      "include_colab_link": true
    },
    "kernelspec": {
      "name": "python3",
      "display_name": "Python 3"
    }
  },
  "cells": [
    {
      "cell_type": "markdown",
      "metadata": {
        "id": "view-in-github",
        "colab_type": "text"
      },
      "source": [
        "<a href=\"https://colab.research.google.com/github/Arjun1250/Arjun-Rathnan-assignment-1/blob/master/Question_discussion_session_2.ipynb\" target=\"_parent\"><img src=\"https://colab.research.google.com/assets/colab-badge.svg\" alt=\"Open In Colab\"/></a>"
      ]
    },
    {
      "cell_type": "code",
      "metadata": {
        "colab": {
          "base_uri": "https://localhost:8080/"
        },
        "id": "bQuz2vmy1p1K",
        "outputId": "b5c9b9e0-3a6d-488f-ba32-768fc3374398"
      },
      "source": [
        "b=[]\n",
        "for i in range(0,4):\n",
        "    a=int(input(\"Element: \"))\n",
        "    b.append(a)\n",
        "sum1=0\n",
        "sum2=0\n",
        "avg1=0\n",
        "avg2=0\n",
        "count1=0\n",
        "count2=0\n",
        "for j in b:\n",
        "    if(j>0):\n",
        "      \n",
        "      sum1=sum1+j\n",
        "      count1=count1+1\n",
        " \n",
        "    else:\n",
        "        sum2=sum2+j\n",
        "        count2=count2+1\n",
        " \n",
        "avg1=sum1/count1\n",
        "avg2=sum2/count2\n",
        "        \n",
        "print(\"Sum of all positive:\",sum1,\",Average=\",avg1)\n",
        "print(\"Sum of all Negative:\",sum2,\",Average=\",avg2)"
      ],
      "execution_count": 1,
      "outputs": [
        {
          "output_type": "stream",
          "text": [
            "Element: 2\n",
            "Element: 6\n",
            "Element: -4\n",
            "Element: -10\n",
            "Sum of all positive: 8 ,Average= 4.0\n",
            "Sum of all Negative: -14 ,Average= -7.0\n"
          ],
          "name": "stdout"
        }
      ]
    },
    {
      "cell_type": "code",
      "metadata": {
        "colab": {
          "base_uri": "https://localhost:8080/"
        },
        "id": "4_CMnkaO3o-K",
        "outputId": "22d66a69-00d3-421e-c808-2b6553476a25"
      },
      "source": [
        "mystr= input(\"input the string\")\n",
        "frequencies = {} \n",
        "  \n",
        "for char in mystr: \n",
        "   if char in frequencies: \n",
        "      frequencies[char] += 1\n",
        "   else: \n",
        "      frequencies[char] = 1\n",
        " \n",
        "print (\"frequency in '{}' is :\\n {}\".format(mystr, str(frequencies)))"
      ],
      "execution_count": 6,
      "outputs": [
        {
          "output_type": "stream",
          "text": [
            "input the stringProcessing\n",
            "frequency in 'Processing' is :\n",
            " {'P': 1, 'r': 1, 'o': 1, 'c': 1, 'e': 1, 's': 2, 'i': 1, 'n': 1, 'g': 1}\n"
          ],
          "name": "stdout"
        }
      ]
    },
    {
      "cell_type": "code",
      "metadata": {
        "colab": {
          "base_uri": "https://localhost:8080/"
        },
        "id": "He3ry74d60C4",
        "outputId": "f8cf57a4-9dc5-4aa8-bf42-02f1c3793393"
      },
      "source": [
        "unsorted_list = [3, 1, 0, 9, 4]\n",
        "sorted_list=[]\n",
        "while unsorted_list:\n",
        "     minimum = unsorted_list[0]\n",
        "     for item in unsorted_list:\n",
        "           if item < minimum:\n",
        "              minimum = item\n",
        "     sorted_list.append(minimum)\n",
        "     unsorted_list.remove(minimum)\n",
        " \n",
        "print(sorted_list)"
      ],
      "execution_count": 20,
      "outputs": [
        {
          "output_type": "stream",
          "text": [
            "[0, 1, 3, 4, 9]\n"
          ],
          "name": "stdout"
        }
      ]
    },
    {
      "cell_type": "code",
      "metadata": {
        "colab": {
          "base_uri": "https://localhost:8080/"
        },
        "id": "w6tjCzFP26cq",
        "outputId": "c6f3d3ef-0cf2-4cb0-c25d-ed682c129a37"
      },
      "source": [
        "def isPalindrome(a):\n",
        " \n",
        "    return a == a[::-1]\n",
        " \n",
        "a=input(\"enter the string (case sensitive) :\")\n",
        " \n",
        "ans =  isPalindrome(a)\n",
        " \n",
        " \n",
        "if ans:\n",
        " \n",
        "    print(\"Yes, it is palindrome\")\n",
        " \n",
        "else:\n",
        " \n",
        "    print(\"No, it is not palindrome\")"
      ],
      "execution_count": 5,
      "outputs": [
        {
          "output_type": "stream",
          "text": [
            "enter the string (case sensitive) :malayalam\n",
            "Yes, it is palindrome\n"
          ],
          "name": "stdout"
        }
      ]
    },
    {
      "cell_type": "code",
      "metadata": {
        "colab": {
          "base_uri": "https://localhost:8080/"
        },
        "id": "8O-v0qXx410L",
        "outputId": "61008b38-d9cd-476d-fb84-afe81cc4ea46"
      },
      "source": [
        "import math\n",
        "def fact(k):\n",
        "   if k<=1:\n",
        "     return 1\n",
        "   else:\n",
        "     return k* fact(k-1)\n",
        " \n",
        "step=int(input(\"enter the no of terms\"))\n",
        "x=int(input(\"enter the value of x\"))\n",
        "sum=0\n",
        "for i in range(step+1):\n",
        "   sum+=(math.pow(-1,i)*math.pow(x,2*i+1))/fact(2*i+1)\n",
        "print(\"The result of sin(\",step,\")\",sum)"
      ],
      "execution_count": 14,
      "outputs": [
        {
          "output_type": "stream",
          "text": [
            "enter the no of terms2\n",
            "enter the value of x90\n",
            "The result of sin( 2 ) 49086090.0\n"
          ],
          "name": "stdout"
        }
      ]
    },
    {
      "cell_type": "code",
      "metadata": {
        "colab": {
          "base_uri": "https://localhost:8080/"
        },
        "id": "bfSY8n0p3URv",
        "outputId": "e2f0c773-c15c-47ec-daff-bcb50495c506"
      },
      "source": [
        "password=input(\"Enter the password\")\n",
        "upper=False\n",
        "lower=False\n",
        "number=False\n",
        "special=False\n",
        "num=['0','1','2','3','4','5','6','7','8','9']\n",
        " \n",
        "if len(password)<6:\n",
        "   print(\"Password length is too short, minimum length should 6\")\n",
        "else:\n",
        "   for i in password:\n",
        "      if i.isupper()==True:\n",
        "         upper=True\n",
        "      elif i in num:\n",
        "         number=True\n",
        "      elif i.islower()==True:\n",
        "         lower=True\n",
        "      elif i==\"$\" or i==\"#\" or i==\"@\":\n",
        "         special=True\n",
        "if upper==True and lower==True and number==True and special==True:\n",
        "   print(\"Password accepted\")\n",
        "else:\n",
        "   print(\"Password not accepted\")"
      ],
      "execution_count": 8,
      "outputs": [
        {
          "output_type": "stream",
          "text": [
            "Enter the passwordHypocritz@123\n",
            "Password accepted\n"
          ],
          "name": "stdout"
        }
      ]
    }
  ]
}