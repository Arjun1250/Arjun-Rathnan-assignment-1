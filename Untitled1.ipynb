{
  "nbformat": 4,
  "nbformat_minor": 0,
  "metadata": {
    "colab": {
      "name": "Untitled1.ipynb",
      "provenance": [],
      "authorship_tag": "ABX9TyODDNOoPIQBV7OLeh87dNGf",
      "include_colab_link": true
    },
    "kernelspec": {
      "name": "python3",
      "display_name": "Python 3"
    }
  },
  "cells": [
    {
      "cell_type": "markdown",
      "metadata": {
        "id": "view-in-github",
        "colab_type": "text"
      },
      "source": [
        "<a href=\"https://colab.research.google.com/github/Arjun1250/Arjun-Rathnan-assignment-1/blob/master/Untitled1.ipynb\" target=\"_parent\"><img src=\"https://colab.research.google.com/assets/colab-badge.svg\" alt=\"Open In Colab\"/></a>"
      ]
    },
    {
      "cell_type": "code",
      "metadata": {
        "id": "Ib3c6lzKCRH9",
        "colab_type": "code",
        "colab": {
          "base_uri": "https://localhost:8080/",
          "height": 67
        },
        "outputId": "bb1bbd7c-3cd3-49a7-98ca-2a34f31a8d3a"
      },
      "source": [
        " \n",
        "#question1\n",
        "print('Name;Arjun.Rathnan')\n",
        "print('Address:Chathamangalam, Calicut')\n",
        "print ('mobile no :8330080056')"
      ],
      "execution_count": 10,
      "outputs": [
        {
          "output_type": "stream",
          "text": [
            "Name;Arjun.Rathnan\n",
            "Address:Chathamangalam, Calicut\n",
            "mobile no :8330080056\n"
          ],
          "name": "stdout"
        }
      ]
    },
    {
      "cell_type": "code",
      "metadata": {
        "id": "uAk7jLi8CoZh",
        "colab_type": "code",
        "colab": {
          "base_uri": "https://localhost:8080/",
          "height": 51
        },
        "outputId": "9adc1d4a-1588-4b3a-c9d2-1a2a55308443"
      },
      "source": [
        " \n",
        "#q2\n",
        "name=input('Enter your name;')\n",
        "print('your name is',name)"
      ],
      "execution_count": null,
      "outputs": [
        {
          "output_type": "stream",
          "text": [
            "Enter your name;Arjun Rathnan\n",
            "your name is Arjun Rathnan\n"
          ],
          "name": "stdout"
        }
      ]
    },
    {
      "cell_type": "code",
      "metadata": {
        "id": "MgFUYjhiC_Mn",
        "colab_type": "code",
        "colab": {
          "base_uri": "https://localhost:8080/",
          "height": 89
        },
        "outputId": "c2390f5b-a92d-41a1-c621-fae1a1aae61f"
      },
      "source": [
        " \n",
        "#q3\n",
        "lenght=float(input ('Enter the lenght of the rectangle'))\n",
        "breadth=float(input ('Enter the breadth of the rectangle'))\n",
        "area=lenght*breadth\n",
        "print('Area of the rectangle is',area)"
      ],
      "execution_count": null,
      "outputs": [
        {
          "output_type": "stream",
          "text": [
            "Enter the lenght of the rectangle10\n",
            "Enter the breadth of the rectangle5\n",
            "Area of the rectangle is 50.0\n"
          ],
          "name": "stdout"
        }
      ]
    },
    {
      "cell_type": "code",
      "metadata": {
        "id": "HYLL936FDUQ-",
        "colab_type": "code",
        "colab": {
          "base_uri": "https://localhost:8080/",
          "height": 51
        },
        "outputId": "b151deae-5c23-40db-a4ff-c6231b622b75"
      },
      "source": [
        " \n",
        "#q5\n",
        "radius=float(input('Enter the radius of the citcle',))\n",
        "area=3.14*radius*radius\n",
        "print('Area of the circle=',area)"
      ],
      "execution_count": null,
      "outputs": [
        {
          "output_type": "stream",
          "text": [
            "Enter the radius of the citcle10\n",
            "Area of the circle= 314.0\n"
          ],
          "name": "stdout"
        }
      ]
    },
    {
      "cell_type": "code",
      "metadata": {
        "id": "7X-EUGD4DwcS",
        "colab_type": "code",
        "colab": {
          "base_uri": "https://localhost:8080/",
          "height": 69
        },
        "outputId": "b44ead7c-bb60-4d5b-b5ba-f86b2de8219b"
      },
      "source": [
        " \n",
        "#q6\n",
        "name=input('Enter your name' )\n",
        "age=input ('Enter your age' )\n",
        "print('Name',name,'Age',age)"
      ],
      "execution_count": null,
      "outputs": [
        {
          "output_type": "stream",
          "text": [
            "Enter your nameArjun Rathnan\n",
            "Enter your age19\n",
            "Name Arjun Rathnan Age 19\n"
          ],
          "name": "stdout"
        }
      ]
    },
    {
      "cell_type": "code",
      "metadata": {
        "id": "hPW9ucDlECpE",
        "colab_type": "code",
        "colab": {
          "base_uri": "https://localhost:8080/",
          "height": 50
        },
        "outputId": "6ea18d36-3548-42d9-a7c7-d19bd77bb2bf"
      },
      "source": [
        " \n",
        "#q7\n",
        "number=float (input('Enter a number'))\n",
        "number=number+1\n",
        "print('One added to the entered number is',number)"
      ],
      "execution_count": 9,
      "outputs": [
        {
          "output_type": "stream",
          "text": [
            "Enter a number10\n",
            "One added to the entered number is 11.0\n"
          ],
          "name": "stdout"
        }
      ]
    },
    {
      "cell_type": "code",
      "metadata": {
        "id": "I-DWAiP0EdTL",
        "colab_type": "code",
        "colab": {
          "base_uri": "https://localhost:8080/",
          "height": 34
        },
        "outputId": "49f3bd11-a541-493e-e42d-dec7b3872013"
      },
      "source": [
        " \n",
        "#q8\n",
        "name=input('Enter first name ')"
      ],
      "execution_count": null,
      "outputs": [
        {
          "output_type": "stream",
          "text": [
            "Enter first name Arjun\n"
          ],
          "name": "stdout"
        }
      ]
    }
  ]
}