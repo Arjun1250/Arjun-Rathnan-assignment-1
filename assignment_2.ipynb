{
  "nbformat": 4,
  "nbformat_minor": 0,
  "metadata": {
    "colab": {
      "name": "assignment#2",
      "provenance": [],
      "authorship_tag": "ABX9TyNmU0+l0bLdf/kmG59oy6Hz",
      "include_colab_link": true
    },
    "kernelspec": {
      "name": "python3",
      "display_name": "Python 3"
    }
  },
  "cells": [
    {
      "cell_type": "markdown",
      "metadata": {
        "id": "view-in-github",
        "colab_type": "text"
      },
      "source": [
        "<a href=\"https://colab.research.google.com/github/Arjun1250/Arjun-Rathnan-assignment-1/blob/master/assignment_2.ipynb\" target=\"_parent\"><img src=\"https://colab.research.google.com/assets/colab-badge.svg\" alt=\"Open In Colab\"/></a>"
      ]
    },
    {
      "cell_type": "code",
      "metadata": {
        "id": "mFP-EhGv7SdQ"
      },
      "source": [
        " def factorial (n):\n",
        "    if n<0:\n",
        "       return 0\n",
        "    elif n == 0 or n== 1:\n",
        "        return 1\n",
        "    else:\n",
        "       fact = 1\n",
        "       while(n>1):\n",
        "          fact *=n\n",
        "          n -= 1\n",
        "       return fact"
      ],
      "execution_count": 1,
      "outputs": []
    },
    {
      "cell_type": "code",
      "metadata": {
        "colab": {
          "base_uri": "https://localhost:8080/"
        },
        "id": "XcYjGIGj7Xaj",
        "outputId": "b7061555-11d8-461d-efd8-9dec8ff4a2ce"
      },
      "source": [
        "factorial(5)"
      ],
      "execution_count": 2,
      "outputs": [
        {
          "output_type": "execute_result",
          "data": {
            "text/plain": [
              "120"
            ]
          },
          "metadata": {
            "tags": []
          },
          "execution_count": 2
        }
      ]
    }
  ]
}