{
  "nbformat": 4,
  "nbformat_minor": 0,
  "metadata": {
    "colab": {
      "name": "Internal 2 questions",
      "provenance": [],
      "authorship_tag": "ABX9TyMH6Mvs+6deowrwwsmy/VFQ",
      "include_colab_link": true
    },
    "kernelspec": {
      "name": "python3",
      "display_name": "Python 3"
    }
  },
  "cells": [
    {
      "cell_type": "markdown",
      "metadata": {
        "id": "view-in-github",
        "colab_type": "text"
      },
      "source": [
        "<a href=\"https://colab.research.google.com/github/Arjun1250/Arjun-Rathnan-assignment-1/blob/master/Internal_2_questions.ipynb\" target=\"_parent\"><img src=\"https://colab.research.google.com/assets/colab-badge.svg\" alt=\"Open In Colab\"/></a>"
      ]
    },
    {
      "cell_type": "code",
      "metadata": {
        "colab": {
          "base_uri": "https://localhost:8080/",
          "height": 35
        },
        "id": "6PldEzWImZwR",
        "outputId": "9317ef69-876d-4a6b-ee21-e491acf874a9"
      },
      "source": [
        "def reverse_lookup(d,v):\n",
        "    for k in d:\n",
        "        if d[k]==v:\n",
        "           return k\n",
        "dict1={'a':1.6,'c':10,'b':11}\n",
        "reverse_lookup(dict1,10)"
      ],
      "execution_count": null,
      "outputs": [
        {
          "output_type": "execute_result",
          "data": {
            "application/vnd.google.colaboratory.intrinsic+json": {
              "type": "string"
            },
            "text/plain": [
              "'c'"
            ]
          },
          "metadata": {
            "tags": []
          },
          "execution_count": 5
        }
      ]
    },
    {
      "cell_type": "code",
      "metadata": {
        "colab": {
          "base_uri": "https://localhost:8080/"
        },
        "id": "1dhiqViuou1h",
        "outputId": "3279afe1-ebf2-44ad-c3fa-8fd612c5c9e2"
      },
      "source": [
        " class Rectangle():\n",
        "    def __init__(self, l, w):\n",
        "        self.length = l\n",
        "        self.width  = w\n",
        " \n",
        "    def rectangle_area(self):\n",
        "        return self.length*self.width\n",
        " \n",
        "newRectangle = Rectangle(10,5)\n",
        "print(newRectangle.rectangle_area())"
      ],
      "execution_count": null,
      "outputs": [
        {
          "output_type": "stream",
          "text": [
            "50\n"
          ],
          "name": "stdout"
        }
      ]
    },
    {
      "cell_type": "code",
      "metadata": {
        "colab": {
          "base_uri": "https://localhost:8080/"
        },
        "id": "fsJ7k1Ygxp8_",
        "outputId": "8b399649-30bf-44f9-db53-9ef9e86dc3d8"
      },
      "source": [
        "def Remove(duplicate):\n",
        "    final_list = []\n",
        "    for num in duplicate:\n",
        "        if num not in final_list:\n",
        "            final_list.append(num)\n",
        "    return final_list\n",
        " \n",
        "duplicate=[10,20,30,40,50,10,70,10]\n",
        "print(Remove(duplicate))"
      ],
      "execution_count": null,
      "outputs": [
        {
          "output_type": "stream",
          "text": [
            "[10, 20, 30, 40, 50, 70]\n"
          ],
          "name": "stdout"
        }
      ]
    },
    {
      "cell_type": "code",
      "metadata": {
        "id": "UAm-dsehJgSS",
        "colab": {
          "base_uri": "https://localhost:8080/"
        },
        "outputId": "bf375742-fe57-448c-ccd6-ac2ab8c8eae4"
      },
      "source": [
        " \n",
        "class Polygon:\n",
        "    def __init__(self,number,name):\n",
        "        self.number = number #3 - Triangle\n",
        "        self.name=name\n",
        "        self.sides=[]\n",
        "    def inputsides(self):\n",
        "      print(self.name)\n",
        "      for i in range(0,self.number):\n",
        "            ele=float(input(\"Enter side \"+str(i+1)+\" : \"))\n",
        "            self.sides.append(ele)\n",
        "class Triangle(Polygon):\n",
        "    def __init__(self):\n",
        "        Polygon.__init__(self, 3 ,\"TRIANGLE :\")\n",
        " \n",
        "    def trianglearea(self):\n",
        "        a, b, c = self.sides\n",
        "        s = (a + b + c) / 2\n",
        "        area = (s*(s-a)*(s-b)*(s-c)) ** 0.5\n",
        "        print(\"The area of the triangle is : %0.2f  \" % area)\n",
        " \n",
        "class Square(Polygon):\n",
        " \n",
        "    def __init__(self):\n",
        "        Polygon.__init__(self, 4, \"SQUARE :\")\n",
        " \n",
        "    def inputsides(self):\n",
        "      print(self.name)\n",
        "      self.sides=float(input(\"Enter side  : \"))\n",
        "      \n",
        "    \n",
        "    def squArea(self):\n",
        "        a = self.sides\n",
        "        area=a**2\n",
        "        print(\"The area of square is : %0.2f  \" % area)\n",
        " \n",
        " \n",
        "ob = Triangle()\n",
        "ob.inputsides() #BASE\n",
        "ob.trianglearea()\n",
        " \n",
        "ob1 = Square()\n",
        "ob1.inputsides() #DERIVED\n",
        "ob1.squArea()"
      ],
      "execution_count": null,
      "outputs": [
        {
          "output_type": "stream",
          "text": [
            "TRIANGLE :\n",
            "Enter side 1 : 3\n",
            "Enter side 2 : 5\n",
            "Enter side 3 : 4\n",
            "The area of the triangle is : 6.00  \n",
            "SQUARE :\n",
            "Enter side  : 5\n",
            "The area of square is : 25.00  \n"
          ],
          "name": "stdout"
        }
      ]
    }
  ]
}